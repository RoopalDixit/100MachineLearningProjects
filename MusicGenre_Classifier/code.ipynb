{
 "cells": [
  {
   "cell_type": "markdown",
   "id": "a0e53bc0",
   "metadata": {},
   "source": [
    "Importing Libraries:\n",
    "librosa: Library for audio processing, used to load audio files and extract features.\n",
    "numpy: For numerical operations and array handling.\n",
    "pandas: For data manipulation (though minimally used here).\n",
    "sklearn: Provides machine learning tools (train-test split, Random Forest, metrics).\n",
    "os: For navigating the file system to load audio files."
   ]
  },
  {
   "cell_type": "code",
   "execution_count": 2,
   "id": "1ad05c60",
   "metadata": {},
   "outputs": [
    {
     "name": "stdout",
     "output_type": "stream",
     "text": [
      "Defaulting to user installation because normal site-packages is not writeable\n",
      "Collecting librosa\n",
      "  Downloading librosa-0.11.0-py3-none-any.whl.metadata (8.7 kB)\n",
      "Requirement already satisfied: numpy in /Users/roopaldixit/Library/Python/3.9/lib/python/site-packages (1.26.4)\n",
      "Requirement already satisfied: pandas in /Users/roopaldixit/Library/Python/3.9/lib/python/site-packages (2.2.3)\n",
      "Requirement already satisfied: scikit-learn in /Users/roopaldixit/Library/Python/3.9/lib/python/site-packages (1.5.2)\n",
      "Collecting audioread>=2.1.9 (from librosa)\n",
      "  Downloading audioread-3.0.1-py3-none-any.whl.metadata (8.4 kB)\n",
      "Collecting numba>=0.51.0 (from librosa)\n",
      "  Downloading numba-0.60.0-cp39-cp39-macosx_11_0_arm64.whl.metadata (2.7 kB)\n",
      "Requirement already satisfied: scipy>=1.6.0 in /Users/roopaldixit/Library/Python/3.9/lib/python/site-packages (from librosa) (1.13.1)\n",
      "Requirement already satisfied: joblib>=1.0 in /Users/roopaldixit/Library/Python/3.9/lib/python/site-packages (from librosa) (1.4.2)\n",
      "Requirement already satisfied: decorator>=4.3.0 in /Users/roopaldixit/Library/Python/3.9/lib/python/site-packages (from librosa) (5.1.1)\n",
      "Collecting soundfile>=0.12.1 (from librosa)\n",
      "  Downloading soundfile-0.13.1-py2.py3-none-macosx_11_0_arm64.whl.metadata (16 kB)\n",
      "Collecting pooch>=1.1 (from librosa)\n",
      "  Downloading pooch-1.8.2-py3-none-any.whl.metadata (10 kB)\n",
      "Collecting soxr>=0.3.2 (from librosa)\n",
      "  Downloading soxr-1.0.0-cp39-cp39-macosx_11_0_arm64.whl.metadata (5.6 kB)\n",
      "Requirement already satisfied: typing_extensions>=4.1.1 in /Users/roopaldixit/Library/Python/3.9/lib/python/site-packages (from librosa) (4.15.0)\n",
      "Collecting lazy_loader>=0.1 (from librosa)\n",
      "  Downloading lazy_loader-0.4-py3-none-any.whl.metadata (7.6 kB)\n",
      "Collecting msgpack>=1.0 (from librosa)\n",
      "  Downloading msgpack-1.1.2-cp39-cp39-macosx_11_0_arm64.whl.metadata (8.1 kB)\n",
      "Requirement already satisfied: python-dateutil>=2.8.2 in /Users/roopaldixit/Library/Python/3.9/lib/python/site-packages (from pandas) (2.9.0.post0)\n",
      "Requirement already satisfied: pytz>=2020.1 in /Users/roopaldixit/Library/Python/3.9/lib/python/site-packages (from pandas) (2024.2)\n",
      "Requirement already satisfied: tzdata>=2022.7 in /Users/roopaldixit/Library/Python/3.9/lib/python/site-packages (from pandas) (2024.2)\n",
      "Requirement already satisfied: threadpoolctl>=3.1.0 in /Users/roopaldixit/Library/Python/3.9/lib/python/site-packages (from scikit-learn) (3.5.0)\n",
      "Requirement already satisfied: packaging in /Users/roopaldixit/Library/Python/3.9/lib/python/site-packages (from lazy_loader>=0.1->librosa) (24.1)\n",
      "Collecting llvmlite<0.44,>=0.43.0dev0 (from numba>=0.51.0->librosa)\n",
      "  Downloading llvmlite-0.43.0-cp39-cp39-macosx_11_0_arm64.whl.metadata (4.8 kB)\n",
      "Requirement already satisfied: platformdirs>=2.5.0 in /Users/roopaldixit/Library/Python/3.9/lib/python/site-packages (from pooch>=1.1->librosa) (4.2.2)\n",
      "Requirement already satisfied: requests>=2.19.0 in /Users/roopaldixit/Library/Python/3.9/lib/python/site-packages (from pooch>=1.1->librosa) (2.32.3)\n",
      "Requirement already satisfied: six>=1.5 in /Library/Developer/CommandLineTools/Library/Frameworks/Python3.framework/Versions/3.9/lib/python3.9/site-packages (from python-dateutil>=2.8.2->pandas) (1.15.0)\n",
      "Requirement already satisfied: charset-normalizer<4,>=2 in /Users/roopaldixit/Library/Python/3.9/lib/python/site-packages (from requests>=2.19.0->pooch>=1.1->librosa) (3.3.2)\n",
      "Requirement already satisfied: idna<4,>=2.5 in /Users/roopaldixit/Library/Python/3.9/lib/python/site-packages (from requests>=2.19.0->pooch>=1.1->librosa) (3.8)\n",
      "Requirement already satisfied: urllib3<3,>=1.21.1 in /Users/roopaldixit/Library/Python/3.9/lib/python/site-packages (from requests>=2.19.0->pooch>=1.1->librosa) (1.26.20)\n",
      "Requirement already satisfied: certifi>=2017.4.17 in /Users/roopaldixit/Library/Python/3.9/lib/python/site-packages (from requests>=2.19.0->pooch>=1.1->librosa) (2024.8.30)\n",
      "Requirement already satisfied: cffi>=1.0 in /Users/roopaldixit/Library/Python/3.9/lib/python/site-packages (from soundfile>=0.12.1->librosa) (1.17.0)\n",
      "Requirement already satisfied: pycparser in /Users/roopaldixit/Library/Python/3.9/lib/python/site-packages (from cffi>=1.0->soundfile>=0.12.1->librosa) (2.22)\n",
      "Downloading librosa-0.11.0-py3-none-any.whl (260 kB)\n",
      "Downloading audioread-3.0.1-py3-none-any.whl (23 kB)\n",
      "Downloading lazy_loader-0.4-py3-none-any.whl (12 kB)\n",
      "Downloading msgpack-1.1.2-cp39-cp39-macosx_11_0_arm64.whl (84 kB)\n",
      "Downloading numba-0.60.0-cp39-cp39-macosx_11_0_arm64.whl (2.7 MB)\n",
      "\u001b[2K   \u001b[90m━━━━━━━━━━━━━━━━━━━━━━━━━━━━━━━━━━━━━━━━\u001b[0m \u001b[32m2.7/2.7 MB\u001b[0m \u001b[31m7.5 MB/s\u001b[0m  \u001b[33m0:00:00\u001b[0m eta \u001b[36m0:00:01\u001b[0m\n",
      "\u001b[?25hDownloading llvmlite-0.43.0-cp39-cp39-macosx_11_0_arm64.whl (28.8 MB)\n",
      "\u001b[2K   \u001b[90m━━━━━━━━━━━━━━━━━━━━━━━━━━━━━━━━━━━━━━━━\u001b[0m \u001b[32m28.8/28.8 MB\u001b[0m \u001b[31m4.2 MB/s\u001b[0m  \u001b[33m0:00:06\u001b[0mm0:00:01\u001b[0m00:01\u001b[0m\n",
      "\u001b[?25hDownloading pooch-1.8.2-py3-none-any.whl (64 kB)\n",
      "Downloading soundfile-0.13.1-py2.py3-none-macosx_11_0_arm64.whl (1.1 MB)\n",
      "\u001b[2K   \u001b[90m━━━━━━━━━━━━━━━━━━━━━━━━━━━━━━━━━━━━━━━━\u001b[0m \u001b[32m1.1/1.1 MB\u001b[0m \u001b[31m3.3 MB/s\u001b[0m  \u001b[33m0:00:00\u001b[0m eta \u001b[36m0:00:01\u001b[0m\n",
      "\u001b[?25hDownloading soxr-1.0.0-cp39-cp39-macosx_11_0_arm64.whl (165 kB)\n",
      "Installing collected packages: soxr, msgpack, llvmlite, lazy_loader, audioread, soundfile, pooch, numba, librosa\n",
      "\u001b[2K   \u001b[90m━━━━━━━━━━━━━━━━━━━━━━━━━━━━━━━━━━━━━━━━\u001b[0m \u001b[32m9/9\u001b[0m [librosa]m7/9\u001b[0m [numba]te]\n",
      "\u001b[1A\u001b[2KSuccessfully installed audioread-3.0.1 lazy_loader-0.4 librosa-0.11.0 llvmlite-0.43.0 msgpack-1.1.2 numba-0.60.0 pooch-1.8.2 soundfile-0.13.1 soxr-1.0.0\n",
      "Note: you may need to restart the kernel to use updated packages.\n"
     ]
    }
   ],
   "source": [
    "%pip install librosa numpy pandas scikit-learn"
   ]
  },
  {
   "cell_type": "code",
   "execution_count": 8,
   "id": "e0571be8",
   "metadata": {},
   "outputs": [],
   "source": [
    "import librosa\n",
    "import numpy as np\n",
    "import pandas as pd\n",
    "from sklearn.model_selection import train_test_split\n",
    "from sklearn.ensemble import RandomForestClassifier\n",
    "from sklearn.metrics import accuracy_score, classification_report, confusion_matrix\n",
    "from sklearn.preprocessing import StandardScaler\n",
    "import os\n",
    "import joblib\n",
    "from tqdm import tqdm\n",
    "import seaborn as sns\n",
    "import matplotlib.pyplot as plt"
   ]
  },
  {
   "cell_type": "code",
   "execution_count": 9,
   "id": "7b01acc2",
   "metadata": {},
   "outputs": [],
   "source": [
    "# Function to extract audio features from a single file\n",
    "def extract_features(file_path):\n",
    "    \"\"\"\n",
    "    Extract audio features from an audio file.\n",
    "    Args:\n",
    "        file_path (str): Path to the audio file (.wav).\n",
    "    Returns:\n",
    "        numpy array: Combined feature vector or None if extraction fails.\n",
    "    \"\"\"\n",
    "    try:\n",
    "        # Load audio file (GTZAN tracks are 30 seconds)\n",
    "        y, sr = librosa.load(file_path, duration=30)\n",
    "        \n",
    "        # Extract features\n",
    "        mfcc = np.mean(librosa.feature.mfcc(y=y, sr=sr, n_mfcc=13), axis=1)\n",
    "        spectral_contrast = np.mean(librosa.feature.spectral_contrast(y=y, sr=sr), axis=1)\n",
    "        tempo = librosa.feature.tempo(y=y, sr=sr)[0]\n",
    "        chroma = np.mean(librosa.feature.chroma_stft(y=y, sr=sr), axis=1)\n",
    "        spectral_centroid = np.mean(librosa.feature.spectral_centroid(y=y, sr=sr))\n",
    "        \n",
    "        # Combine features (13 + 7 + 1 + 12 + 1 = 34 features)\n",
    "        features = np.concatenate([\n",
    "            mfcc,\n",
    "            spectral_contrast,\n",
    "            [tempo],\n",
    "            chroma,\n",
    "            [spectral_centroid]\n",
    "        ])\n",
    "        return features\n",
    "    except Exception as e:\n",
    "        print(f\"Error processing {file_path}: {e}\")\n",
    "        return None"
   ]
  },
  {
   "cell_type": "code",
   "execution_count": 10,
   "id": "2d801ae1",
   "metadata": {},
   "outputs": [],
   "source": [
    "# Function to load dataset and extract features\n",
    "def load_data(data_dir, genres):\n",
    "    \"\"\"\n",
    "    Load GTZAN dataset and extract features.\n",
    "    Args:\n",
    "        data_dir (str): Path to GTZAN genres directory.\n",
    "        genres (list): List of genre names.\n",
    "    Returns:\n",
    "        X (numpy array): Feature matrix.\n",
    "        y (numpy array): Genre labels.\n",
    "    \"\"\"\n",
    "    X = []\n",
    "    y = []\n",
    "    \n",
    "    for genre in tqdm(genres, desc=\"Processing genres\"):\n",
    "        genre_path = os.path.join(data_dir, genre)\n",
    "        files = [f for f in os.listdir(genre_path) if f.endswith('.wav')]\n",
    "        \n",
    "        for file_name in tqdm(files, desc=f\"Extracting {genre}\", leave=False):\n",
    "            file_path = os.path.join(genre_path, file_name)\n",
    "            features = extract_features(file_path)\n",
    "            if features is not None:\n",
    "                X.append(features)\n",
    "                y.append(genre)\n",
    "    \n",
    "    return np.array(X), np.array(y)"
   ]
  },
  {
   "cell_type": "code",
   "execution_count": 11,
   "id": "ae766211",
   "metadata": {},
   "outputs": [],
   "source": [
    "# Function to plot confusion matrix\n",
    "def plot_confusion_matrix(y_test, y_pred, genres, save_path='confusion_matrix.png'):\n",
    "    \"\"\"\n",
    "    Plot and save a confusion matrix.\n",
    "    \"\"\"\n",
    "    cm = confusion_matrix(y_test, y_pred, labels=genres)\n",
    "    plt.figure(figsize=(10, 8))\n",
    "    sns.heatmap(cm, annot=True, fmt='d', xticklabels=genres, yticklabels=genres, cmap='Blues')\n",
    "    plt.xlabel('Predicted')\n",
    "    plt.ylabel('True')\n",
    "    plt.title('Confusion Matrix')\n",
    "    plt.savefig(save_path)\n",
    "    plt.show()\n",
    "    print(f\"Confusion matrix saved as {save_path}\")"
   ]
  },
  {
   "cell_type": "code",
   "execution_count": 26,
   "id": "5327c46c",
   "metadata": {},
   "outputs": [],
   "source": [
    "# Main function\n",
    "def main():\n",
    "    \"\"\"\n",
    "    Main function to load GTZAN data, train classifier, and evaluate.\n",
    "    \"\"\"\n",
    "    # Define dataset path and genres\n",
    "    data_dir = \"genres/genres_original\"  # Update if different\n",
    "    genres = ['blues', 'classical', 'country', 'disco', 'hiphop', 'jazz', 'metal', 'pop', 'reggae', 'rock']\n",
    "    \n",
    "    # Load and extract features\n",
    "    print(\"Extracting features...\")\n",
    "    X, y = load_data(data_dir, genres)\n",
    "    print(f\"Loaded {len(X)} tracks with {X.shape[1]} features each.\")\n",
    "    \n",
    "    if len(X) == 0:\n",
    "        print(\"No data loaded. Check dataset path and files.\")\n",
    "        return\n",
    "    \n",
    "    # Split data (80% train, 20% test)\n",
    "    X_train, X_test, y_train, y_test = train_test_split(X, y, test_size=0.2, random_state=42, stratify=y)\n",
    "    \n",
    "    # Scale features\n",
    "    scaler = StandardScaler()\n",
    "    X_train = scaler.fit_transform(X_train)\n",
    "    X_test = scaler.transform(X_test)\n",
    "    \n",
    "    # Train Random Forest Classifier\n",
    "    print(\"Training classifier...\")\n",
    "    clf = RandomForestClassifier(n_estimators=100, random_state=42)\n",
    "    clf.fit(X_train, y_train)\n",
    "    \n",
    "    # Predict and evaluate\n",
    "    print(\"Evaluating classifier...\")\n",
    "    y_pred = clf.predict(X_test)\n",
    "    accuracy = accuracy_score(y_test, y_pred)\n",
    "    print(f\"Accuracy: {accuracy:.4f}\")\n",
    "    print(\"\\nClassification Report:\")\n",
    "    print(classification_report(y_test, y_pred, target_names=genres))\n",
    "    \n",
    "    # Plot confusion matrix\n",
    "    plot_confusion_matrix(y_test, y_pred, genres)\n",
    "    \n",
    "    # Save model and scaler\n",
    "    joblib.dump(clf, 'gtzan_genre_classifier_model.pkl')\n",
    "    joblib.dump(scaler, 'gtzan_scaler.pkl')\n",
    "    print(\"Model and scaler saved.\")"
   ]
  },
  {
   "cell_type": "code",
   "execution_count": 27,
   "id": "e00d493c",
   "metadata": {},
   "outputs": [],
   "source": [
    "# Function to predict genre for a new audio file\n",
    "def predict_genre(file_path, model_path='gtzan_genre_classifier_model.pkl', scaler_path='gtzan_scaler.pkl'):\n",
    "    \"\"\"\n",
    "    Predict the genre of a new audio file.\n",
    "    Args:\n",
    "        file_path (str): Path to the audio file.\n",
    "        model_path (str): Path to saved model.\n",
    "        scaler_path (str): Path to saved scaler.\n",
    "    Returns:\n",
    "        str: Predicted genre.\n",
    "    \"\"\"\n",
    "    clf = joblib.load(model_path)\n",
    "    scaler = joblib.load(scaler_path)\n",
    "    features = extract_features(file_path)\n",
    "    if features is None:\n",
    "        return \"Error: Could not extract features.\"\n",
    "    features = scaler.transform([features])\n",
    "    prediction = clf.predict(features)[0]\n",
    "    return prediction"
   ]
  },
  {
   "cell_type": "code",
   "execution_count": 28,
   "id": "35f51848",
   "metadata": {},
   "outputs": [
    {
     "name": "stdout",
     "output_type": "stream",
     "text": [
      "Extracting features...\n"
     ]
    },
    {
     "name": "stderr",
     "output_type": "stream",
     "text": [
      "Processing genres:  50%|█████     | 5/10 [02:05<02:00, 24.03s/it]/var/folders/d2/nq0x9cjd54q2hrh6rmmlh6780000gn/T/ipykernel_1907/3542911261.py:12: UserWarning: PySoundFile failed. Trying audioread instead.\n",
      "  y, sr = librosa.load(file_path, duration=30)\n",
      "/Users/roopaldixit/Library/Python/3.9/lib/python/site-packages/librosa/core/audio.py:184: FutureWarning: librosa.core.audio.__audioread_load\n",
      "\tDeprecated as of librosa version 0.10.0.\n",
      "\tIt will be removed in librosa version 1.0.\n",
      "  y, sr_native = __audioread_load(path, offset, duration, dtype)\n"
     ]
    },
    {
     "name": "stdout",
     "output_type": "stream",
     "text": [
      "Error processing genres/genres_original/jazz/jazz.00054.wav: \n"
     ]
    },
    {
     "name": "stderr",
     "output_type": "stream",
     "text": [
      "Processing genres: 100%|██████████| 10/10 [04:10<00:00, 25.02s/it]\n"
     ]
    },
    {
     "name": "stdout",
     "output_type": "stream",
     "text": [
      "Loaded 999 tracks with 34 features each.\n",
      "Training classifier...\n",
      "Evaluating classifier...\n",
      "Accuracy: 0.6200\n",
      "\n",
      "Classification Report:\n",
      "              precision    recall  f1-score   support\n",
      "\n",
      "       blues       0.79      0.55      0.65        20\n",
      "   classical       0.89      0.80      0.84        20\n",
      "     country       0.46      0.55      0.50        20\n",
      "       disco       0.52      0.55      0.54        20\n",
      "      hiphop       0.58      0.55      0.56        20\n",
      "        jazz       0.63      0.60      0.62        20\n",
      "       metal       0.77      0.85      0.81        20\n",
      "         pop       0.58      0.75      0.65        20\n",
      "      reggae       0.61      0.70      0.65        20\n",
      "        rock       0.43      0.30      0.35        20\n",
      "\n",
      "    accuracy                           0.62       200\n",
      "   macro avg       0.63      0.62      0.62       200\n",
      "weighted avg       0.63      0.62      0.62       200\n",
      "\n"
     ]
    },
    {
     "data": {
      "image/png": "[encoded data removed]",
      "text/plain": [
       "<Figure size 1000x800 with 2 Axes>"
      ]
     },
     "metadata": {},
     "output_type": "display_data"
    },
    {
     "name": "stdout",
     "output_type": "stream",
     "text": [
      "Confusion matrix saved as confusion_matrix.png\n",
      "Model and scaler saved.\n"
     ]
    }
   ],
   "source": [
    "if __name__ == \"__main__\":\n",
    "    main()"
   ]
  }
 ],
 "metadata": {
  "kernelspec": {
   "display_name": "Python 3",
   "language": "python",
   "name": "python3"
  },
  "language_info": {
   "codemirror_mode": {
    "name": "ipython",
    "version": 3
   },
   "file_extension": ".py",
   "mimetype": "text/x-python",
   "name": "python",
   "nbconvert_exporter": "python",
   "pygments_lexer": "ipython3",
   "version": "3.9.6"
  }
 },
 "nbformat": 4,
 "nbformat_minor": 5
}
