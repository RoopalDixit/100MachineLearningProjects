{
 "cells": [
  {
   "cell_type": "code",
   "execution_count": 4,
   "id": "e6541dcf",
   "metadata": {},
   "outputs": [
    {
     "name": "stdout",
     "output_type": "stream",
     "text": [
      "Defaulting to user installation because normal site-packages is not writeable\n",
      "Collecting deepface\n",
      "  Using cached deepface-0.0.95-py3-none-any.whl.metadata (35 kB)\n",
      "Collecting mediapipe\n",
      "  Using cached mediapipe-0.10.21-cp39-cp39-macosx_11_0_universal2.whl.metadata (9.9 kB)\n",
      "Requirement already satisfied: pillow in /Users/roopaldixit/Library/Python/3.9/lib/python/site-packages (10.4.0)\n",
      "Requirement already satisfied: requests>=2.27.1 in /Users/roopaldixit/Library/Python/3.9/lib/python/site-packages (from deepface) (2.32.3)\n",
      "Requirement already satisfied: numpy>=1.14.0 in /Users/roopaldixit/Library/Python/3.9/lib/python/site-packages (from deepface) (1.24.3)\n",
      "Requirement already satisfied: pandas>=0.23.4 in /Users/roopaldixit/Library/Python/3.9/lib/python/site-packages (from deepface) (2.2.3)\n",
      "Requirement already satisfied: gdown>=3.10.1 in /Users/roopaldixit/Library/Python/3.9/lib/python/site-packages (from deepface) (5.2.0)\n",
      "Requirement already satisfied: tqdm>=4.30.0 in /Users/roopaldixit/Library/Python/3.9/lib/python/site-packages (from deepface) (4.67.1)\n",
      "Requirement already satisfied: opencv-python>=4.5.5.64 in /Users/roopaldixit/Library/Python/3.9/lib/python/site-packages (from deepface) (4.11.0.86)\n",
      "Requirement already satisfied: tensorflow>=1.9.0 in /Users/roopaldixit/Library/Python/3.9/lib/python/site-packages (from deepface) (2.13.0)\n",
      "Requirement already satisfied: keras>=2.2.0 in /Users/roopaldixit/Library/Python/3.9/lib/python/site-packages (from deepface) (2.13.1)\n",
      "Requirement already satisfied: Flask>=1.1.2 in /Users/roopaldixit/Library/Python/3.9/lib/python/site-packages (from deepface) (3.1.0)\n",
      "Requirement already satisfied: flask-cors>=4.0.1 in /Users/roopaldixit/Library/Python/3.9/lib/python/site-packages (from deepface) (6.0.1)\n",
      "Requirement already satisfied: mtcnn>=0.1.0 in /Users/roopaldixit/Library/Python/3.9/lib/python/site-packages (from deepface) (0.1.1)\n",
      "Collecting retina-face>=0.0.14 (from deepface)\n",
      "  Using cached retina_face-0.0.17-py3-none-any.whl.metadata (10 kB)\n",
      "Requirement already satisfied: fire>=0.4.0 in /Users/roopaldixit/Library/Python/3.9/lib/python/site-packages (from deepface) (0.7.1)\n",
      "Requirement already satisfied: gunicorn>=20.1.0 in /Users/roopaldixit/Library/Python/3.9/lib/python/site-packages (from deepface) (23.0.0)\n",
      "Requirement already satisfied: absl-py in /Users/roopaldixit/Library/Python/3.9/lib/python/site-packages (from mediapipe) (2.2.2)\n",
      "Requirement already satisfied: attrs>=19.1.0 in /Users/roopaldixit/Library/Python/3.9/lib/python/site-packages (from mediapipe) (23.2.0)\n",
      "Requirement already satisfied: flatbuffers>=2.0 in /Users/roopaldixit/Library/Python/3.9/lib/python/site-packages (from mediapipe) (25.2.10)\n",
      "Requirement already satisfied: jax in /Users/roopaldixit/Library/Python/3.9/lib/python/site-packages (from mediapipe) (0.4.30)\n",
      "Requirement already satisfied: jaxlib in /Users/roopaldixit/Library/Python/3.9/lib/python/site-packages (from mediapipe) (0.4.30)\n",
      "Requirement already satisfied: matplotlib in /Users/roopaldixit/Library/Python/3.9/lib/python/site-packages (from mediapipe) (3.9.2)\n",
      "Requirement already satisfied: opencv-contrib-python in /Users/roopaldixit/Library/Python/3.9/lib/python/site-packages (from mediapipe) (4.11.0.86)\n",
      "Requirement already satisfied: protobuf<5,>=4.25.3 in /Users/roopaldixit/Library/Python/3.9/lib/python/site-packages (from mediapipe) (4.25.8)\n",
      "Requirement already satisfied: sounddevice>=0.4.4 in /Users/roopaldixit/Library/Python/3.9/lib/python/site-packages (from mediapipe) (0.5.2)\n",
      "Requirement already satisfied: sentencepiece in /Users/roopaldixit/Library/Python/3.9/lib/python/site-packages (from mediapipe) (0.2.1)\n",
      "Requirement already satisfied: termcolor in /Users/roopaldixit/Library/Python/3.9/lib/python/site-packages (from fire>=0.4.0->deepface) (3.0.1)\n",
      "Requirement already satisfied: Werkzeug>=3.1 in /Users/roopaldixit/Library/Python/3.9/lib/python/site-packages (from Flask>=1.1.2->deepface) (3.1.3)\n",
      "Requirement already satisfied: Jinja2>=3.1.2 in /Users/roopaldixit/Library/Python/3.9/lib/python/site-packages (from Flask>=1.1.2->deepface) (3.1.4)\n",
      "Requirement already satisfied: itsdangerous>=2.2 in /Users/roopaldixit/Library/Python/3.9/lib/python/site-packages (from Flask>=1.1.2->deepface) (2.2.0)\n",
      "Requirement already satisfied: click>=8.1.3 in /Users/roopaldixit/Library/Python/3.9/lib/python/site-packages (from Flask>=1.1.2->deepface) (8.1.8)\n",
      "Requirement already satisfied: blinker>=1.9 in /Users/roopaldixit/Library/Python/3.9/lib/python/site-packages (from Flask>=1.1.2->deepface) (1.9.0)\n",
      "Requirement already satisfied: importlib-metadata>=3.6 in /Users/roopaldixit/Library/Python/3.9/lib/python/site-packages (from Flask>=1.1.2->deepface) (6.11.0)\n",
      "Requirement already satisfied: beautifulsoup4 in /Users/roopaldixit/Library/Python/3.9/lib/python/site-packages (from gdown>=3.10.1->deepface) (4.12.3)\n",
      "Requirement already satisfied: filelock in /Users/roopaldixit/Library/Python/3.9/lib/python/site-packages (from gdown>=3.10.1->deepface) (3.18.0)\n",
      "Requirement already satisfied: packaging in /Users/roopaldixit/Library/Python/3.9/lib/python/site-packages (from gunicorn>=20.1.0->deepface) (24.1)\n",
      "Requirement already satisfied: zipp>=0.5 in /Users/roopaldixit/Library/Python/3.9/lib/python/site-packages (from importlib-metadata>=3.6->Flask>=1.1.2->deepface) (3.20.1)\n",
      "Requirement already satisfied: MarkupSafe>=2.0 in /Users/roopaldixit/Library/Python/3.9/lib/python/site-packages (from Jinja2>=3.1.2->Flask>=1.1.2->deepface) (2.1.5)\n",
      "Requirement already satisfied: python-dateutil>=2.8.2 in /Users/roopaldixit/Library/Python/3.9/lib/python/site-packages (from pandas>=0.23.4->deepface) (2.9.0.post0)\n",
      "Requirement already satisfied: pytz>=2020.1 in /Users/roopaldixit/Library/Python/3.9/lib/python/site-packages (from pandas>=0.23.4->deepface) (2024.2)\n",
      "Requirement already satisfied: tzdata>=2022.7 in /Users/roopaldixit/Library/Python/3.9/lib/python/site-packages (from pandas>=0.23.4->deepface) (2024.2)\n",
      "Requirement already satisfied: six>=1.5 in /Library/Developer/CommandLineTools/Library/Frameworks/Python3.framework/Versions/3.9/lib/python3.9/site-packages (from python-dateutil>=2.8.2->pandas>=0.23.4->deepface) (1.15.0)\n",
      "Requirement already satisfied: charset-normalizer<4,>=2 in /Users/roopaldixit/Library/Python/3.9/lib/python/site-packages (from requests>=2.27.1->deepface) (3.3.2)\n",
      "Requirement already satisfied: idna<4,>=2.5 in /Users/roopaldixit/Library/Python/3.9/lib/python/site-packages (from requests>=2.27.1->deepface) (3.8)\n",
      "Requirement already satisfied: urllib3<3,>=1.21.1 in /Users/roopaldixit/Library/Python/3.9/lib/python/site-packages (from requests>=2.27.1->deepface) (1.26.20)\n",
      "Requirement already satisfied: certifi>=2017.4.17 in /Users/roopaldixit/Library/Python/3.9/lib/python/site-packages (from requests>=2.27.1->deepface) (2024.8.30)\n",
      "Requirement already satisfied: CFFI>=1.0 in /Users/roopaldixit/Library/Python/3.9/lib/python/site-packages (from sounddevice>=0.4.4->mediapipe) (1.17.0)\n",
      "Requirement already satisfied: pycparser in /Users/roopaldixit/Library/Python/3.9/lib/python/site-packages (from CFFI>=1.0->sounddevice>=0.4.4->mediapipe) (2.22)\n",
      "Requirement already satisfied: tensorflow-macos==2.13.0 in /Users/roopaldixit/Library/Python/3.9/lib/python/site-packages (from tensorflow>=1.9.0->deepface) (2.13.0)\n",
      "Requirement already satisfied: astunparse>=1.6.0 in /Users/roopaldixit/Library/Python/3.9/lib/python/site-packages (from tensorflow-macos==2.13.0->tensorflow>=1.9.0->deepface) (1.6.3)\n",
      "Requirement already satisfied: gast<=0.4.0,>=0.2.1 in /Users/roopaldixit/Library/Python/3.9/lib/python/site-packages (from tensorflow-macos==2.13.0->tensorflow>=1.9.0->deepface) (0.4.0)\n",
      "Requirement already satisfied: google-pasta>=0.1.1 in /Users/roopaldixit/Library/Python/3.9/lib/python/site-packages (from tensorflow-macos==2.13.0->tensorflow>=1.9.0->deepface) (0.2.0)\n",
      "Requirement already satisfied: h5py>=2.9.0 in /Users/roopaldixit/Library/Python/3.9/lib/python/site-packages (from tensorflow-macos==2.13.0->tensorflow>=1.9.0->deepface) (3.13.0)\n",
      "Requirement already satisfied: libclang>=13.0.0 in /Users/roopaldixit/Library/Python/3.9/lib/python/site-packages (from tensorflow-macos==2.13.0->tensorflow>=1.9.0->deepface) (18.1.1)\n",
      "Requirement already satisfied: opt-einsum>=2.3.2 in /Users/roopaldixit/Library/Python/3.9/lib/python/site-packages (from tensorflow-macos==2.13.0->tensorflow>=1.9.0->deepface) (3.4.0)\n",
      "Requirement already satisfied: setuptools in /Library/Developer/CommandLineTools/Library/Frameworks/Python3.framework/Versions/3.9/lib/python3.9/site-packages (from tensorflow-macos==2.13.0->tensorflow>=1.9.0->deepface) (58.0.4)\n",
      "Requirement already satisfied: typing-extensions<4.6.0,>=3.6.6 in /Users/roopaldixit/Library/Python/3.9/lib/python/site-packages (from tensorflow-macos==2.13.0->tensorflow>=1.9.0->deepface) (4.5.0)\n",
      "Requirement already satisfied: wrapt>=1.11.0 in /Users/roopaldixit/Library/Python/3.9/lib/python/site-packages (from tensorflow-macos==2.13.0->tensorflow>=1.9.0->deepface) (1.14.2)\n",
      "Requirement already satisfied: grpcio<2.0,>=1.24.3 in /Users/roopaldixit/Library/Python/3.9/lib/python/site-packages (from tensorflow-macos==2.13.0->tensorflow>=1.9.0->deepface) (1.71.0)\n",
      "Requirement already satisfied: tensorboard<2.14,>=2.13 in /Users/roopaldixit/Library/Python/3.9/lib/python/site-packages (from tensorflow-macos==2.13.0->tensorflow>=1.9.0->deepface) (2.13.0)\n",
      "Requirement already satisfied: tensorflow-estimator<2.14,>=2.13.0 in /Users/roopaldixit/Library/Python/3.9/lib/python/site-packages (from tensorflow-macos==2.13.0->tensorflow>=1.9.0->deepface) (2.13.0)\n",
      "Requirement already satisfied: google-auth<3,>=1.6.3 in /Users/roopaldixit/Library/Python/3.9/lib/python/site-packages (from tensorboard<2.14,>=2.13->tensorflow-macos==2.13.0->tensorflow>=1.9.0->deepface) (2.40.3)\n",
      "Requirement already satisfied: google-auth-oauthlib<1.1,>=0.5 in /Users/roopaldixit/Library/Python/3.9/lib/python/site-packages (from tensorboard<2.14,>=2.13->tensorflow-macos==2.13.0->tensorflow>=1.9.0->deepface) (1.0.0)\n",
      "Requirement already satisfied: markdown>=2.6.8 in /Users/roopaldixit/Library/Python/3.9/lib/python/site-packages (from tensorboard<2.14,>=2.13->tensorflow-macos==2.13.0->tensorflow>=1.9.0->deepface) (3.8)\n",
      "Requirement already satisfied: tensorboard-data-server<0.8.0,>=0.7.0 in /Users/roopaldixit/Library/Python/3.9/lib/python/site-packages (from tensorboard<2.14,>=2.13->tensorflow-macos==2.13.0->tensorflow>=1.9.0->deepface) (0.7.2)\n",
      "Requirement already satisfied: wheel>=0.26 in /Library/Developer/CommandLineTools/Library/Frameworks/Python3.framework/Versions/3.9/lib/python3.9/site-packages (from tensorboard<2.14,>=2.13->tensorflow-macos==2.13.0->tensorflow>=1.9.0->deepface) (0.37.0)\n",
      "Requirement already satisfied: cachetools<6.0,>=2.0.0 in /Users/roopaldixit/Library/Python/3.9/lib/python/site-packages (from google-auth<3,>=1.6.3->tensorboard<2.14,>=2.13->tensorflow-macos==2.13.0->tensorflow>=1.9.0->deepface) (5.5.2)\n",
      "Requirement already satisfied: pyasn1-modules>=0.2.1 in /Users/roopaldixit/Library/Python/3.9/lib/python/site-packages (from google-auth<3,>=1.6.3->tensorboard<2.14,>=2.13->tensorflow-macos==2.13.0->tensorflow>=1.9.0->deepface) (0.4.2)\n",
      "Requirement already satisfied: rsa<5,>=3.1.4 in /Users/roopaldixit/Library/Python/3.9/lib/python/site-packages (from google-auth<3,>=1.6.3->tensorboard<2.14,>=2.13->tensorflow-macos==2.13.0->tensorflow>=1.9.0->deepface) (4.9.1)\n",
      "Requirement already satisfied: requests-oauthlib>=0.7.0 in /Users/roopaldixit/Library/Python/3.9/lib/python/site-packages (from google-auth-oauthlib<1.1,>=0.5->tensorboard<2.14,>=2.13->tensorflow-macos==2.13.0->tensorflow>=1.9.0->deepface) (2.0.0)\n",
      "Requirement already satisfied: pyasn1>=0.1.3 in /Users/roopaldixit/Library/Python/3.9/lib/python/site-packages (from rsa<5,>=3.1.4->google-auth<3,>=1.6.3->tensorboard<2.14,>=2.13->tensorflow-macos==2.13.0->tensorflow>=1.9.0->deepface) (0.6.1)\n",
      "Requirement already satisfied: oauthlib>=3.0.0 in /Users/roopaldixit/Library/Python/3.9/lib/python/site-packages (from requests-oauthlib>=0.7.0->google-auth-oauthlib<1.1,>=0.5->tensorboard<2.14,>=2.13->tensorflow-macos==2.13.0->tensorflow>=1.9.0->deepface) (3.3.1)\n",
      "Requirement already satisfied: soupsieve>1.2 in /Users/roopaldixit/Library/Python/3.9/lib/python/site-packages (from beautifulsoup4->gdown>=3.10.1->deepface) (2.6)\n",
      "Requirement already satisfied: ml-dtypes>=0.2.0 in /Users/roopaldixit/Library/Python/3.9/lib/python/site-packages (from jax->mediapipe) (0.3.2)\n",
      "Requirement already satisfied: scipy>=1.9 in /Users/roopaldixit/Library/Python/3.9/lib/python/site-packages (from jax->mediapipe) (1.13.1)\n",
      "Requirement already satisfied: contourpy>=1.0.1 in /Users/roopaldixit/Library/Python/3.9/lib/python/site-packages (from matplotlib->mediapipe) (1.3.0)\n",
      "Requirement already satisfied: cycler>=0.10 in /Users/roopaldixit/Library/Python/3.9/lib/python/site-packages (from matplotlib->mediapipe) (0.12.1)\n",
      "Requirement already satisfied: fonttools>=4.22.0 in /Users/roopaldixit/Library/Python/3.9/lib/python/site-packages (from matplotlib->mediapipe) (4.53.1)\n",
      "Requirement already satisfied: kiwisolver>=1.3.1 in /Users/roopaldixit/Library/Python/3.9/lib/python/site-packages (from matplotlib->mediapipe) (1.4.7)\n",
      "Requirement already satisfied: pyparsing>=2.3.1 in /Users/roopaldixit/Library/Python/3.9/lib/python/site-packages (from matplotlib->mediapipe) (3.1.4)\n",
      "Requirement already satisfied: importlib-resources>=3.2.0 in /Users/roopaldixit/Library/Python/3.9/lib/python/site-packages (from matplotlib->mediapipe) (6.4.5)\n",
      "Requirement already satisfied: PySocks!=1.5.7,>=1.5.6 in /Users/roopaldixit/Library/Python/3.9/lib/python/site-packages (from requests[socks]->gdown>=3.10.1->deepface) (1.7.1)\n",
      "Using cached deepface-0.0.95-py3-none-any.whl (128 kB)\n",
      "Using cached mediapipe-0.10.21-cp39-cp39-macosx_11_0_universal2.whl (49.2 MB)\n",
      "Using cached retina_face-0.0.17-py3-none-any.whl (25 kB)\n",
      "Installing collected packages: mediapipe, retina-face, deepface\n",
      "\u001b[2K   \u001b[90m━━━━━━━━━━━━━━━━━━━━━━━━━━━━━━━━━━━━━━━━\u001b[0m \u001b[32m3/3\u001b[0m [deepface]]\n",
      "\u001b[1A\u001b[2KSuccessfully installed deepface-0.0.95 mediapipe-0.10.21 retina-face-0.0.17\n",
      "\n",
      "\u001b[1m[\u001b[0m\u001b[34;49mnotice\u001b[0m\u001b[1;39;49m]\u001b[0m\u001b[39;49m A new release of pip is available: \u001b[0m\u001b[31;49m25.1.1\u001b[0m\u001b[39;49m -> \u001b[0m\u001b[32;49m25.2\u001b[0m\n",
      "\u001b[1m[\u001b[0m\u001b[34;49mnotice\u001b[0m\u001b[1;39;49m]\u001b[0m\u001b[39;49m To update, run: \u001b[0m\u001b[32;49m/Library/Developer/CommandLineTools/usr/bin/python3 -m pip install --upgrade pip\u001b[0m\n",
      "Note: you may need to restart the kernel to use updated packages.\n"
     ]
    }
   ],
   "source": [
    "%pip install deepface mediapipe pillow"
   ]
  },
  {
   "cell_type": "code",
   "execution_count": 5,
   "id": "70532317",
   "metadata": {},
   "outputs": [
    {
     "name": "stdout",
     "output_type": "stream",
     "text": [
      "25-10-10 14:04:15 - Directory /Users/roopaldixit/.deepface has been created\n",
      "25-10-10 14:04:15 - Directory /Users/roopaldixit/.deepface/weights has been created\n",
      "Libraries installed successfully!\n"
     ]
    }
   ],
   "source": [
    "from deepface import DeepFace\n",
    "import mediapipe as mp\n",
    "from PIL import Image\n",
    "print(\"Libraries installed successfully!\")"
   ]
  },
  {
   "cell_type": "code",
   "execution_count": 2,
   "id": "4cef35e6",
   "metadata": {},
   "outputs": [],
   "source": [
    "from deepface import DeepFace\n",
    "import mediapipe as mp\n",
    "from PIL import Image, ImageDraw, ImageFont\n",
    "import numpy as np\n",
    "import os"
   ]
  },
  {
   "cell_type": "code",
   "execution_count": 3,
   "id": "a924f79b",
   "metadata": {},
   "outputs": [
    {
     "name": "stderr",
     "output_type": "stream",
     "text": [
      "WARNING: All log messages before absl::InitializeLog() is called are written to STDERR\n",
      "I0000 00:00:1760130776.193300 2062089 gl_context.cc:369] GL version: 2.1 (2.1 Metal - 89.4), renderer: Apple M2\n"
     ]
    },
    {
     "name": "stderr",
     "output_type": "stream",
     "text": [
      "INFO: Created TensorFlow Lite XNNPACK delegate for CPU.\n",
      "W0000 00:00:1760130776.216703 2062713 inference_feedback_manager.cc:114] Feedback manager requires a model with a single signature inference. Disabling support for feedback tensors.\n"
     ]
    }
   ],
   "source": [
    "# Initialize Mediapipe Face Detection\n",
    "mp_face_detection = mp.solutions.face_detection\n",
    "face_detection = mp_face_detection.FaceDetection(model_selection=1, min_detection_confidence=0.5)"
   ]
  },
  {
   "cell_type": "code",
   "execution_count": 7,
   "id": "f21bb2e4",
   "metadata": {},
   "outputs": [
    {
     "name": "stdout",
     "output_type": "stream",
     "text": [
      "Known faces loaded: ['actor3', 'actor1']\n"
     ]
    }
   ],
   "source": [
    "# Step 1: Load known faces\n",
    "known_faces_dir = \"known_faces\"\n",
    "known_face_paths = [\n",
    "    os.path.join(known_faces_dir, f) for f in os.listdir(known_faces_dir) if f.endswith((\".jpeg\", \".png\"))\n",
    "]\n",
    "known_face_names = [os.path.splitext(os.path.basename(f))[0] for f in known_face_paths]\n",
    "\n",
    "print(\"Known faces loaded:\", known_face_names)"
   ]
  },
  {
   "cell_type": "code",
   "execution_count": 10,
   "id": "28482eb0",
   "metadata": {},
   "outputs": [],
   "source": [
    "# Step 2: Load test image\n",
    "test_image_path = \"unknown_faces/test1.jpeg\"\n",
    "image = Image.open(test_image_path).convert(\"RGB\")\n",
    "image_np = np.array(image)  # Convert to NumPy array for Mediapipe"
   ]
  },
  {
   "cell_type": "code",
   "execution_count": 11,
   "id": "8367cad7",
   "metadata": {},
   "outputs": [],
   "source": [
    "# Step 3: Detect faces using Mediapipe\n",
    "results = face_detection.process(image_np)\n",
    "if not results.detections:\n",
    "    print(\"No faces detected in the test image.\")\n",
    "    exit()"
   ]
  },
  {
   "cell_type": "code",
   "execution_count": 12,
   "id": "aaa3f0ef",
   "metadata": {},
   "outputs": [],
   "source": [
    "# Step 4: Initialize drawing on the image\n",
    "draw = ImageDraw.Draw(image)\n",
    "try:\n",
    "    font = ImageFont.truetype(\"arial.ttf\", 20)  # Try to use a font (download if needed)\n",
    "except:\n",
    "    font = ImageFont.load_default()  # Fallback to default font"
   ]
  },
  {
   "cell_type": "code",
   "execution_count": 13,
   "id": "1c40a2e0",
   "metadata": {},
   "outputs": [
    {
     "name": "stdout",
     "output_type": "stream",
     "text": [
      "25-10-10 14:16:04 - 🔗 facenet_weights.h5 will be downloaded from https://github.com/serengil/deepface_models/releases/download/v1.0/facenet_weights.h5 to /Users/roopaldixit/.deepface/weights/facenet_weights.h5...\n"
     ]
    },
    {
     "name": "stderr",
     "output_type": "stream",
     "text": [
      "Downloading...\n",
      "From: https://github.com/serengil/deepface_models/releases/download/v1.0/facenet_weights.h5\n",
      "To: /Users/roopaldixit/.deepface/weights/facenet_weights.h5\n",
      "100%|██████████| 92.2M/92.2M [00:02<00:00, 37.1MB/s]\n"
     ]
    }
   ],
   "source": [
    "# Step 5: Recognize faces using DeepFace\n",
    "for detection in results.detections:\n",
    "    # Get bounding box coordinates\n",
    "    bbox = detection.location_data.relative_bounding_box\n",
    "    h, w, _ = image_np.shape\n",
    "    x_min = int(bbox.xmin * w)\n",
    "    y_min = int(bbox.ymin * h)\n",
    "    width = int(bbox.width * w)\n",
    "    height = int(bbox.height * h)\n",
    "    x_max = x_min + width\n",
    "    y_max = y_min + height\n",
    "\n",
    "    # Crop the face region for DeepFace\n",
    "    face_region = image_np[y_min:y_max, x_min:x_max]\n",
    "    if face_region.size == 0:\n",
    "        continue  # Skip if the face region is empty\n",
    "\n",
    "    # Save the face region temporarily for DeepFace\n",
    "    temp_face_path = \"temp_face.jpg\"\n",
    "    Image.fromarray(face_region).save(temp_face_path)\n",
    "\n",
    "    # Compare with known faces\n",
    "    name = \"Unknown\"\n",
    "    for known_face_path, known_name in zip(known_face_paths, known_face_names):\n",
    "        try:\n",
    "            result = DeepFace.verify(temp_face_path, known_face_path, model_name=\"Facenet\", enforce_detection=False)\n",
    "            if result[\"verified\"]:\n",
    "                name = known_name\n",
    "                break\n",
    "        except:\n",
    "            continue  # Skip if DeepFace fails to process the image\n",
    "\n",
    "    # Draw bounding box and name\n",
    "    draw.rectangle((x_min, y_min, x_max, y_max), outline=\"green\", width=2)\n",
    "    draw.text((x_min, y_min - 30), name, fill=\"green\", font=font)"
   ]
  },
  {
   "cell_type": "code",
   "execution_count": 14,
   "id": "c5e7a6f9",
   "metadata": {},
   "outputs": [
    {
     "name": "stdout",
     "output_type": "stream",
     "text": [
      "Output saved as output.jpg\n"
     ]
    }
   ],
   "source": [
    "# Step 6: Save and display the result\n",
    "output_path = \"output.jpg\"\n",
    "image.save(output_path)\n",
    "image.show()  # Opens the image in the default image viewer\n",
    "\n",
    "print(f\"Output saved as {output_path}\")"
   ]
  },
  {
   "cell_type": "code",
   "execution_count": 15,
   "id": "7c84387a",
   "metadata": {},
   "outputs": [],
   "source": [
    "test_image_path = \"unknown_faces/test2.jpeg\"\n",
    "image = Image.open(test_image_path).convert(\"RGB\")\n",
    "image_np = np.array(image)"
   ]
  },
  {
   "cell_type": "code",
   "execution_count": 17,
   "id": "c87976fb",
   "metadata": {},
   "outputs": [],
   "source": [
    "# Step 3: Detect faces using Mediapipe\n",
    "results2 = face_detection.process(image_np)\n",
    "if not results2.detections:\n",
    "    print(\"No faces detected in the test image.\")\n",
    "    exit()"
   ]
  },
  {
   "cell_type": "code",
   "execution_count": 18,
   "id": "5c9bc676",
   "metadata": {},
   "outputs": [],
   "source": [
    "# Step 4: Initialize drawing on the image\n",
    "draw = ImageDraw.Draw(image)\n",
    "try:\n",
    "    font = ImageFont.truetype(\"arial.ttf\", 20)  # Try to use a font (download if needed)\n",
    "except:\n",
    "    font = ImageFont.load_default()  # Fallback to default font"
   ]
  },
  {
   "cell_type": "code",
   "execution_count": 19,
   "id": "5ffc2051",
   "metadata": {},
   "outputs": [],
   "source": [
    "# Step 5: Recognize faces using DeepFace\n",
    "for detection in results2.detections:\n",
    "    # Get bounding box coordinates\n",
    "    bbox = detection.location_data.relative_bounding_box\n",
    "    h, w, _ = image_np.shape\n",
    "    x_min = int(bbox.xmin * w)\n",
    "    y_min = int(bbox.ymin * h)\n",
    "    width = int(bbox.width * w)\n",
    "    height = int(bbox.height * h)\n",
    "    x_max = x_min + width\n",
    "    y_max = y_min + height\n",
    "\n",
    "    # Crop the face region for DeepFace\n",
    "    face_region = image_np[y_min:y_max, x_min:x_max]\n",
    "    if face_region.size == 0:\n",
    "        continue  # Skip if the face region is empty\n",
    "\n",
    "    # Save the face region temporarily for DeepFace\n",
    "    temp_face_path = \"temp_face.jpg\"\n",
    "    Image.fromarray(face_region).save(temp_face_path)\n",
    "\n",
    "    # Compare with known faces\n",
    "    name = \"Unknown\"\n",
    "    for known_face_path, known_name in zip(known_face_paths, known_face_names):\n",
    "        try:\n",
    "            result = DeepFace.verify(temp_face_path, known_face_path, model_name=\"Facenet\", enforce_detection=False)\n",
    "            if result[\"verified\"]:\n",
    "                name = known_name\n",
    "                break\n",
    "        except:\n",
    "            continue  # Skip if DeepFace fails to process the image\n",
    "\n",
    "    # Draw bounding box and name\n",
    "    draw.rectangle((x_min, y_min, x_max, y_max), outline=\"green\", width=2)\n",
    "    draw.text((x_min, y_min - 30), name, fill=\"green\", font=font)"
   ]
  },
  {
   "cell_type": "code",
   "execution_count": 20,
   "id": "6a98dd34",
   "metadata": {},
   "outputs": [
    {
     "name": "stdout",
     "output_type": "stream",
     "text": [
      "Output saved as output.jpg\n"
     ]
    }
   ],
   "source": [
    "# Step 6: Save and display the result\n",
    "output_path = \"output.jpg\"\n",
    "image.save(output_path)\n",
    "image.show()  # Opens the image in the default image viewer\n",
    "\n",
    "print(f\"Output saved as {output_path}\")"
   ]
  }
 ],
 "metadata": {
  "kernelspec": {
   "display_name": "Python 3",
   "language": "python",
   "name": "python3"
  },
  "language_info": {
   "codemirror_mode": {
    "name": "ipython",
    "version": 3
   },
   "file_extension": ".py",
   "mimetype": "text/x-python",
   "name": "python",
   "nbconvert_exporter": "python",
   "pygments_lexer": "ipython3",
   "version": "3.9.6"
  }
 },
 "nbformat": 4,
 "nbformat_minor": 5
}
