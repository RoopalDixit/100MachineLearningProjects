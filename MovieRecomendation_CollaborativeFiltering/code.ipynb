{
 "cells": [
  {
   "cell_type": "code",
   "execution_count": 1,
   "id": "70fed400",
   "metadata": {},
   "outputs": [
    {
     "name": "stdout",
     "output_type": "stream",
     "text": [
      "User-Item Matrix:\n",
      "MovieID  101  102  103\n",
      "UserID                \n",
      "1        5.0  3.0  0.0\n",
      "2        4.0  0.0  2.0\n",
      "\n",
      "User Similarity Matrix:\n",
      "UserID         1         2\n",
      "UserID                    \n",
      "1       1.000000  0.766965\n",
      "2       0.766965  1.000000\n",
      "\n",
      "Recommendations for User 1:\n",
      "Movie 103: Predicted Rating 2.00\n"
     ]
    }
   ],
   "source": [
    "import pandas as pd\n",
    "from sklearn.metrics.pairwise import cosine_similarity\n",
    "import numpy as np\n",
    "\n",
    "# Step 1: Sample dataset (UserID, MovieID, Rating)\n",
    "data = {\n",
    "    'UserID': [1, 1, 2, 2],\n",
    "    'MovieID': [101, 102, 101, 103],\n",
    "    'Rating': [5, 3, 4, 2]\n",
    "}\n",
    "df = pd.DataFrame(data)\n",
    "\n",
    "# Step 2: Create user-item matrix\n",
    "user_item_matrix = df.pivot_table(index='UserID', columns='MovieID', values='Rating').fillna(0)\n",
    "print(\"User-Item Matrix:\")\n",
    "print(user_item_matrix)\n",
    "\n",
    "# Step 3: Compute cosine similarity between users\n",
    "similarity_matrix = cosine_similarity(user_item_matrix)\n",
    "similarity_df = pd.DataFrame(similarity_matrix, index=user_item_matrix.index, columns=user_item_matrix.index)\n",
    "print(\"\\nUser Similarity Matrix:\")\n",
    "print(similarity_df)\n",
    "\n",
    "# Step 4: Function to get recommendations for a user\n",
    "def get_recommendations(user_id, user_item_matrix, similarity_df, k=1):\n",
    "    # Get similar users\n",
    "    similar_users = similarity_df[user_id].sort_values(ascending=False)[1:k+1].index\n",
    "    \n",
    "    # Get movies the target user hasn't rated\n",
    "    user_ratings = user_item_matrix.loc[user_id]\n",
    "    unrated_movies = user_ratings[user_ratings == 0].index\n",
    "    \n",
    "    # Predict ratings for unrated movies\n",
    "    predictions = []\n",
    "    for movie in unrated_movies:\n",
    "        # Get ratings from similar users for this movie\n",
    "        similar_user_ratings = user_item_matrix.loc[similar_users, movie]\n",
    "        # Get similarity scores for those users\n",
    "        sim_scores = similarity_df.loc[similar_users, user_id]\n",
    "        # Compute weighted average rating\n",
    "        if sim_scores.sum() > 0:  # Avoid division by zero\n",
    "            predicted_rating = np.dot(similar_user_ratings, sim_scores) / sim_scores.sum()\n",
    "            predictions.append((movie, predicted_rating))\n",
    "    \n",
    "    # Sort predictions by predicted rating\n",
    "    predictions.sort(key=lambda x: x[1], reverse=True)\n",
    "    return predictions\n",
    "\n",
    "# Step 5: Get recommendations for User 1\n",
    "recommendations = get_recommendations(1, user_item_matrix, similarity_df, k=1)\n",
    "print(\"\\nRecommendations for User 1:\")\n",
    "for movie, score in recommendations:\n",
    "    print(f\"Movie {movie}: Predicted Rating {score:.2f}\")"
   ]
  },
  {
   "cell_type": "code",
   "execution_count": null,
   "id": "9add5d8e",
   "metadata": {},
   "outputs": [],
   "source": []
  }
 ],
 "metadata": {
  "kernelspec": {
   "display_name": "Python 3",
   "language": "python",
   "name": "python3"
  },
  "language_info": {
   "codemirror_mode": {
    "name": "ipython",
    "version": 3
   },
   "file_extension": ".py",
   "mimetype": "text/x-python",
   "name": "python",
   "nbconvert_exporter": "python",
   "pygments_lexer": "ipython3",
   "version": "3.9.6"
  }
 },
 "nbformat": 4,
 "nbformat_minor": 5
}
